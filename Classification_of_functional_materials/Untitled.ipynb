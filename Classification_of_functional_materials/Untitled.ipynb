{
 "cells": [
  {
   "cell_type": "code",
   "execution_count": 26,
   "metadata": {},
   "outputs": [
    {
     "name": "stdout",
     "output_type": "stream",
     "text": [
      "[[6 2 2 2 1 1]\n",
      " [2 1 1 1 2 2]] [[ 0.42857143  0.14285714  0.14285714  0.14285714  0.07142857  0.07142857]\n",
      " [ 0.22222222  0.11111111  0.11111111  0.11111111  0.22222222  0.22222222]]\n"
     ]
    }
   ],
   "source": [
    "import numpy as np\n",
    "\n",
    "X = np.array([\n",
    "    [2,1,0,0,0,0],\n",
    "    [2,0,1,0,0,0],\n",
    "    [1,0,0,1,0,0],\n",
    "    [1,0,0,0,1,1]\n",
    "])\n",
    "y = np.array([0,0,0,1])\n",
    "\n",
    "alpha = 1\n",
    "\n",
    "separated = [[x for x, t in zip(X, y) if t == c] for c in np.unique(y)]\n",
    "count_sample = X.shape[0]\n",
    "class_log_prior_ = [np.log(len(i) / count_sample) for i in separated]\n",
    "count = np.array([np.array(i).sum(axis=0) for i in separated]) + alpha\n",
    "feature_log_prob_ = np.log(count / count.sum(axis=1)[np.newaxis].T)\n",
    "\n",
    "predict_log_proba = [(feature_log_prob_ * x).sum(axis=1) + class_log_prior_ for x in X]\n",
    "#predict =  np.argmax(predict_log_proba, axis=1)\n",
    "#print(predict)"
   ]
  },
  {
   "cell_type": "code",
   "execution_count": null,
   "metadata": {
    "collapsed": true
   },
   "outputs": [],
   "source": []
  }
 ],
 "metadata": {
  "kernelspec": {
   "display_name": "Python [conda env:py3]",
   "language": "python",
   "name": "conda-env-py3-py"
  },
  "language_info": {
   "codemirror_mode": {
    "name": "ipython",
    "version": 3
   },
   "file_extension": ".py",
   "mimetype": "text/x-python",
   "name": "python",
   "nbconvert_exporter": "python",
   "pygments_lexer": "ipython3",
   "version": "3.5.3"
  }
 },
 "nbformat": 4,
 "nbformat_minor": 1
}

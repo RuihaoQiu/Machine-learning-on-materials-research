{
 "cells": [
  {
   "cell_type": "markdown",
   "metadata": {},
   "source": [
    "## Machine Learning on Materials classification\n",
    "\n",
    "In this project, we classify three groups of functional materials -- ferroelectrics, anti-ferroelectrics and paraelectrics, based on the experimental parameters e.g. radius, (effective) valence, electronegativity, polarisability etc.</br>"
   ]
  },
  {
   "cell_type": "markdown",
   "metadata": {},
   "source": [
    "#### Import modules"
   ]
  },
  {
   "cell_type": "code",
   "execution_count": 392,
   "metadata": {},
   "outputs": [],
   "source": [
    "import pandas as pd\n",
    "import numpy as np\n",
    "import itertools\n",
    "import matplotlib.pyplot as plt\n",
    "from sklearn.model_selection import train_test_split\n",
    "from sklearn import preprocessing\n",
    "from sklearn.decomposition import PCA\n",
    "from sklearn import svm\n",
    "from sklearn import neighbors\n",
    "from sklearn.tree import DecisionTreeClassifier\n",
    "from sklearn.ensemble import RandomForestClassifier, ExtraTreesClassifier, AdaBoostClassifier\n",
    "from sklearn.metrics import confusion_matrix\n",
    "from sklearn.feature_selection import SelectKBest, chi2, SelectPercentile, f_classif, SelectFromModel"
   ]
  },
  {
   "cell_type": "markdown",
   "metadata": {},
   "source": [
    "#### Import original data\n",
    "Data structure: 198 perovskite compounds and 21 features."
   ]
  },
  {
   "cell_type": "code",
   "execution_count": 381,
   "metadata": {},
   "outputs": [
    {
     "data": {
      "text/html": [
       "<div>\n",
       "<style>\n",
       "    .dataframe thead tr:only-child th {\n",
       "        text-align: right;\n",
       "    }\n",
       "\n",
       "    .dataframe thead th {\n",
       "        text-align: left;\n",
       "    }\n",
       "\n",
       "    .dataframe tbody tr th {\n",
       "        vertical-align: top;\n",
       "    }\n",
       "</style>\n",
       "<table border=\"1\" class=\"dataframe\">\n",
       "  <thead>\n",
       "    <tr style=\"text-align: right;\">\n",
       "      <th></th>\n",
       "      <th>No.</th>\n",
       "      <th>compound</th>\n",
       "      <th>valence</th>\n",
       "      <th>RA(pm)Ⅻ</th>\n",
       "      <th>RB(pm)Ⅵ</th>\n",
       "      <th>RA/RB</th>\n",
       "      <th>polA</th>\n",
       "      <th>polB</th>\n",
       "      <th>polA-polB</th>\n",
       "      <th>negA</th>\n",
       "      <th>...</th>\n",
       "      <th>ZA</th>\n",
       "      <th>ZB</th>\n",
       "      <th>RA(ai)</th>\n",
       "      <th>RB(ai)</th>\n",
       "      <th>ZA/RA</th>\n",
       "      <th>ZB/RB</th>\n",
       "      <th>(ZA/RA)/(ZB/RB)</th>\n",
       "      <th>(ZA/RA)+(ZB/RB)</th>\n",
       "      <th>Y</th>\n",
       "      <th>C</th>\n",
       "    </tr>\n",
       "  </thead>\n",
       "  <tbody>\n",
       "    <tr>\n",
       "      <th>0</th>\n",
       "      <td>1</td>\n",
       "      <td>Ba(W,Cu)1/2 O3</td>\n",
       "      <td>2 6 2</td>\n",
       "      <td>175.0</td>\n",
       "      <td>80.5</td>\n",
       "      <td>2.17</td>\n",
       "      <td>1.55</td>\n",
       "      <td>0.29</td>\n",
       "      <td>1.26</td>\n",
       "      <td>1.01</td>\n",
       "      <td>...</td>\n",
       "      <td>2.9</td>\n",
       "      <td>5.15</td>\n",
       "      <td>1.75</td>\n",
       "      <td>0.81</td>\n",
       "      <td>1.66</td>\n",
       "      <td>6.40</td>\n",
       "      <td>0.26</td>\n",
       "      <td>8.05</td>\n",
       "      <td>F</td>\n",
       "      <td>1</td>\n",
       "    </tr>\n",
       "    <tr>\n",
       "      <th>1</th>\n",
       "      <td>2</td>\n",
       "      <td>Sr(W,Cu)1/2 O3</td>\n",
       "      <td>2 6 2</td>\n",
       "      <td>158.0</td>\n",
       "      <td>80.5</td>\n",
       "      <td>1.96</td>\n",
       "      <td>0.86</td>\n",
       "      <td>0.29</td>\n",
       "      <td>0.57</td>\n",
       "      <td>1.00</td>\n",
       "      <td>...</td>\n",
       "      <td>2.9</td>\n",
       "      <td>5.15</td>\n",
       "      <td>1.58</td>\n",
       "      <td>0.81</td>\n",
       "      <td>1.84</td>\n",
       "      <td>6.40</td>\n",
       "      <td>0.29</td>\n",
       "      <td>8.23</td>\n",
       "      <td>F</td>\n",
       "      <td>1</td>\n",
       "    </tr>\n",
       "    <tr>\n",
       "      <th>2</th>\n",
       "      <td>3</td>\n",
       "      <td>Ba(Cu1/3,Ta2/3) O3</td>\n",
       "      <td>2 2 5</td>\n",
       "      <td>175.0</td>\n",
       "      <td>81.0</td>\n",
       "      <td>2.16</td>\n",
       "      <td>1.55</td>\n",
       "      <td>0.34</td>\n",
       "      <td>1.21</td>\n",
       "      <td>1.01</td>\n",
       "      <td>...</td>\n",
       "      <td>2.9</td>\n",
       "      <td>4.97</td>\n",
       "      <td>1.75</td>\n",
       "      <td>0.81</td>\n",
       "      <td>1.66</td>\n",
       "      <td>6.13</td>\n",
       "      <td>0.27</td>\n",
       "      <td>7.79</td>\n",
       "      <td>F</td>\n",
       "      <td>1</td>\n",
       "    </tr>\n",
       "    <tr>\n",
       "      <th>3</th>\n",
       "      <td>4</td>\n",
       "      <td>Ba(Cu1/3,Nb2/3) O3</td>\n",
       "      <td>2 2 5</td>\n",
       "      <td>175.0</td>\n",
       "      <td>81.0</td>\n",
       "      <td>2.16</td>\n",
       "      <td>1.55</td>\n",
       "      <td>0.27</td>\n",
       "      <td>1.28</td>\n",
       "      <td>1.01</td>\n",
       "      <td>...</td>\n",
       "      <td>2.9</td>\n",
       "      <td>3.97</td>\n",
       "      <td>1.75</td>\n",
       "      <td>0.81</td>\n",
       "      <td>1.66</td>\n",
       "      <td>4.90</td>\n",
       "      <td>0.34</td>\n",
       "      <td>6.55</td>\n",
       "      <td>F</td>\n",
       "      <td>1</td>\n",
       "    </tr>\n",
       "    <tr>\n",
       "      <th>4</th>\n",
       "      <td>5</td>\n",
       "      <td>Sr(Cu1/3,Nb2/3) O3</td>\n",
       "      <td>2 2 5</td>\n",
       "      <td>158.0</td>\n",
       "      <td>81.0</td>\n",
       "      <td>1.95</td>\n",
       "      <td>0.86</td>\n",
       "      <td>0.27</td>\n",
       "      <td>0.59</td>\n",
       "      <td>1.00</td>\n",
       "      <td>...</td>\n",
       "      <td>2.9</td>\n",
       "      <td>3.97</td>\n",
       "      <td>1.58</td>\n",
       "      <td>0.81</td>\n",
       "      <td>1.84</td>\n",
       "      <td>4.90</td>\n",
       "      <td>0.37</td>\n",
       "      <td>6.73</td>\n",
       "      <td>F</td>\n",
       "      <td>1</td>\n",
       "    </tr>\n",
       "  </tbody>\n",
       "</table>\n",
       "<p>5 rows × 25 columns</p>\n",
       "</div>"
      ],
      "text/plain": [
       "   No.            compound valence  RA(pm)Ⅻ  RB(pm)Ⅵ  RA/RB  polA  polB  \\\n",
       "0    1      Ba(W,Cu)1/2 O3   2 6 2    175.0     80.5   2.17  1.55  0.29   \n",
       "1    2      Sr(W,Cu)1/2 O3   2 6 2    158.0     80.5   1.96  0.86  0.29   \n",
       "2    3  Ba(Cu1/3,Ta2/3) O3   2 2 5    175.0     81.0   2.16  1.55  0.34   \n",
       "3    4  Ba(Cu1/3,Nb2/3) O3   2 2 5    175.0     81.0   2.16  1.55  0.27   \n",
       "4    5  Sr(Cu1/3,Nb2/3) O3   2 2 5    158.0     81.0   1.95  0.86  0.27   \n",
       "\n",
       "   polA-polB  negA ...   ZA    ZB  RA(ai)  RB(ai)  ZA/RA  ZB/RB  \\\n",
       "0       1.26  1.01 ...  2.9  5.15    1.75    0.81   1.66   6.40   \n",
       "1       0.57  1.00 ...  2.9  5.15    1.58    0.81   1.84   6.40   \n",
       "2       1.21  1.01 ...  2.9  4.97    1.75    0.81   1.66   6.13   \n",
       "3       1.28  1.01 ...  2.9  3.97    1.75    0.81   1.66   4.90   \n",
       "4       0.59  1.00 ...  2.9  3.97    1.58    0.81   1.84   4.90   \n",
       "\n",
       "   (ZA/RA)/(ZB/RB)  (ZA/RA)+(ZB/RB)  Y  C  \n",
       "0             0.26             8.05  F  1  \n",
       "1             0.29             8.23  F  1  \n",
       "2             0.27             7.79  F  1  \n",
       "3             0.34             6.55  F  1  \n",
       "4             0.37             6.73  F  1  \n",
       "\n",
       "[5 rows x 25 columns]"
      ]
     },
     "execution_count": 381,
     "metadata": {},
     "output_type": "execute_result"
    }
   ],
   "source": [
    "original_data = pd.read_csv(\"data/original-data.csv\")\n",
    "df = pd.DataFrame(original_data)\n",
    "df.head()"
   ]
  },
  {
   "cell_type": "markdown",
   "metadata": {},
   "source": [
    "#### Data preprocessing and feature selection\n",
    "Use ExtraTreesClassifier to check the importance of the features.\n",
    "We can select the features based on the importance."
   ]
  },
  {
   "cell_type": "code",
   "execution_count": 385,
   "metadata": {},
   "outputs": [
    {
     "name": "stdout",
     "output_type": "stream",
     "text": [
      "Feature ranking:\n",
      " 1. feature 15 : polA-polB (0.105738)\n",
      " 2. feature  5 : negB (0.087571)\n",
      " 3. feature  9 : ZB (0.084145)\n",
      " 4. feature 11 : ZB/RB (0.084121)\n",
      " 5. feature 14 : polB (0.079922)\n",
      " 6. feature 12 : (ZA/RA)/(ZB/RB) (0.073388)\n",
      " 7. feature  7 : NegB(Bau) (0.060628)\n",
      " 8. feature  8 : ZA (0.056441)\n",
      " 9. feature  3 : Neg(B-A) (0.055600)\n",
      "10. feature  2 : RA/RB (0.051927)\n",
      "11. feature  1 : RB(pm)Ⅵ (0.051896)\n",
      "12. feature 10 : ZA/RA (0.051123)\n",
      "13. feature 13 : polA (0.050920)\n",
      "14. feature  6 : NegA(Bau) (0.047296)\n",
      "15. feature  4 : negA (0.036603)\n",
      "16. feature  0 : RA(pm)Ⅻ (0.022683)\n"
     ]
    },
    {
     "data": {
      "image/png": "[encoded data removed]",
      "text/plain": [
       "<matplotlib.figure.Figure at 0x11b5c6f98>"
      ]
     },
     "metadata": {},
     "output_type": "display_data"
    }
   ],
   "source": [
    "volumns = ['RA(pm)Ⅻ','RB(pm)Ⅵ','RA/RB','Neg(B-A)',\n",
    "           'negA','negB','NegA(Bau)','NegB(Bau)',\n",
    "           'ZA','ZB','ZA/RA','ZB/RB',\n",
    "           '(ZA/RA)/(ZB/RB)','polA','polB','polA-polB']\n",
    "X = preprocessing.scale(np.array(df.loc[:,volumns]))\n",
    "Y = np.array(df['Y'])\n",
    "selector = ExtraTreesClassifier(n_estimators=100,random_state=0).fit(X, Y)\n",
    "\n",
    "importances = selector.feature_importances_\n",
    "indices = np.argsort(importances)[::-1]\n",
    "volumns_reorder = []\n",
    "print(\"Feature ranking:\")\n",
    "for f in range(X.shape[1]):\n",
    "    volumns_reorder.append(volumns[indices[f]])\n",
    "    print(\"%2d. feature %2d : %s (%f)\" % (f + 1, indices[f], volumns[indices[f]], importances[indices[f]]))\n",
    "\n",
    "plt.style.use('ggplot')\n",
    "plt.figure(figsize=(8, 4))\n",
    "plt.title(\"Feature importances\")\n",
    "plt.bar(range(X.shape[1]), importances[indices], align=\"center\")\n",
    "plt.xticks(range(X.shape[1]), volumns_reorder, rotation=45)\n",
    "plt.xlim([-1, X.shape[1]])\n",
    "plt.show()\n",
    "\n",
    "#model = SelectFromModel(selector, prefit=True)\n",
    "#X_new = model.transform(X)\n",
    "#print(X_new.shape)\n",
    "\n",
    "### Here we use all feautres, since the data set is not large and there are not much difference among the features.\n",
    "X_train, X_test, y_train, y_test = train_test_split(X, Y, test_size=0.1, random_state=0)\n",
    "#X_train, X_test, y_train, y_test\n",
    "#X_train.shape, y_train.shape, X_test.shape, y_test.shape"
   ]
  },
  {
   "cell_type": "code",
   "execution_count": 393,
   "metadata": {},
   "outputs": [
    {
     "name": "stdout",
     "output_type": "stream",
     "text": [
      "0.8\n",
      "0.8\n",
      "0.7\n",
      "0.8\n",
      "0.8\n",
      "0.85\n"
     ]
    }
   ],
   "source": [
    "clfs = [neighbors.KNeighborsClassifier(10),\n",
    "        svm.SVC(kernel='rbf',C=5),\n",
    "        DecisionTreeClassifier(max_depth=None),\n",
    "        RandomForestClassifier(n_estimators=100, random_state=0),\n",
    "        ExtraTreesClassifier(n_estimators=100,random_state=0),\n",
    "        AdaBoostClassifier(DecisionTreeClassifier(max_depth=3),n_estimators=100)]\n",
    "\n",
    "#clf = svm.SVC(kernel='rbf',C=5)\n",
    "#clf = RandomForestClassifier(n_estimators=100, random_state=0)\n",
    "#clf = neighbors.KNeighborsClassifier(5)\n",
    "#clf = ExtraTreesClassifier(n_estimators=100,random_state=0)\n",
    "for clf in clfs:\n",
    "    clf.fit(X_train, y_train)\n",
    "    y_pred = clf.predict(X_test)\n",
    "    print(clf.score(X_test, y_test))\n",
    "#y_test, y_pred"
   ]
  },
  {
   "cell_type": "code",
   "execution_count": 394,
   "metadata": {},
   "outputs": [
    {
     "name": "stdout",
     "output_type": "stream",
     "text": [
      "0.570707070707\n",
      "0.707070707071\n",
      "0.636363636364\n",
      "0.737373737374\n",
      "0.727272727273\n",
      "0.70202020202\n"
     ]
    }
   ],
   "source": [
    "from sklearn.model_selection import cross_val_score, LeaveOneGroupOut\n",
    "from sklearn.model_selection import cross_val_predict\n",
    "from sklearn import metrics\n",
    "\n",
    "for clf in clfs:\n",
    "    y_pred = cross_val_predict(clf, X, Y, cv=10)\n",
    "    print(metrics.accuracy_score(Y, y_pred))\n",
    "#scores = cross_val_score(clf, X, Y, cv=10)\n",
    "#scores"
   ]
  },
  {
   "cell_type": "code",
   "execution_count": 396,
   "metadata": {},
   "outputs": [
    {
     "data": {
      "image/png": "[encoded data removed]",
      "text/plain": [
       "<matplotlib.figure.Figure at 0x11b747390>"
      ]
     },
     "metadata": {},
     "output_type": "display_data"
    }
   ],
   "source": [
    "clf = RandomForestClassifier(n_estimators=100, random_state=0)\n",
    "y_pred = cross_val_predict(clf, X, Y, cv=10)\n",
    "\n",
    "def plot_confusion_matrix(cm, classes,\n",
    "                          title='Confusion matrix',\n",
    "                          cmap=plt.cm.Blues):\n",
    "    \n",
    "    plt.style.use('seaborn-dark')\n",
    "    plt.figure(figsize=(5, 4))\n",
    "    plt.imshow(cm, interpolation='nearest', cmap=cmap)\n",
    "    plt.title(title)\n",
    "    plt.colorbar()\n",
    "    tick_marks = np.arange(len(classes))\n",
    "    plt.xticks(tick_marks, classes)\n",
    "    plt.yticks(tick_marks, classes)\n",
    "\n",
    "#    if normalize:\n",
    "#        cm = cm.astype('float') / cm.sum(axis=1)[:, np.newaxis]\n",
    "#        print(\"Normalized confusion matrix\")\n",
    "#    else:\n",
    "#        print('Confusion matrix, without normalization')\n",
    "\n",
    "#    print(cm)\n",
    "\n",
    "    thresh = cm.max() / 2.\n",
    "    for i, j in itertools.product(range(cm.shape[0]), range(cm.shape[1])):\n",
    "        plt.text(j, i, cm[i, j],\n",
    "                 horizontalalignment=\"center\",\n",
    "                 color=\"white\" if cm[i, j] > thresh else \"black\")\n",
    "\n",
    "    plt.tight_layout()\n",
    "    plt.ylabel('True label')\n",
    "    plt.xlabel('Predicted label')\n",
    "    \n",
    "cnf_matrix = confusion_matrix(Y, y_pred)\n",
    "class_names = np.array(['A','F','P'])\n",
    "plot_confusion_matrix(cnf_matrix, classes=class_names,\n",
    "                          title='Confusion matrix',\n",
    "                          cmap=plt.cm.Blues)"
   ]
  },
  {
   "cell_type": "code",
   "execution_count": null,
   "metadata": {
    "collapsed": true
   },
   "outputs": [],
   "source": []
  }
 ],
 "metadata": {
  "anaconda-cloud": {},
  "kernelspec": {
   "display_name": "Python [conda env:py3]",
   "language": "python",
   "name": "conda-env-py3-py"
  },
  "language_info": {
   "codemirror_mode": {
    "name": "ipython",
    "version": 3
   },
   "file_extension": ".py",
   "mimetype": "text/x-python",
   "name": "python",
   "nbconvert_exporter": "python",
   "pygments_lexer": "ipython3",
   "version": "3.5.3"
  }
 },
 "nbformat": 4,
 "nbformat_minor": 1
}

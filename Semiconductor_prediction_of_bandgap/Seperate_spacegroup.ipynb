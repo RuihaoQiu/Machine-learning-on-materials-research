{
 "cells": [
  {
   "cell_type": "code",
   "execution_count": null,
   "metadata": {
    "collapsed": true
   },
   "outputs": [],
   "source": [
    "## import\n",
    "\n",
    "import numpy as np\n",
    "import pandas as pd\n",
    "import seaborn as sns\n",
    "import matplotlib.pyplot as plt\n",
    "from matplotlib.gridspec import GridSpec\n",
    "from sklearn.feature_selection import RFECV\n",
    "from sklearn.model_selection import train_test_split\n",
    "from sklearn.model_selection import GridSearchCV\n",
    "from sklearn.svm import SVR\n",
    "from sklearn.ensemble import RandomForestRegressor as RFR\n",
    "from bayes_opt import BayesianOptimization as BO\n",
    "from IPython.display import display\n",
    "from sklearn.metrics import make_scorer\n",
    "from sklearn.model_selection import cross_val_score\n",
    "import xgboost as XGB\n",
    "from sklearn.ensemble import GradientBoostingRegressor as GBR\n",
    "from skopt import BayesSearchCV\n",
    "from skopt.space import Real, Categorical, Integer\n",
    "\n",
    "%matplotlib inline\n",
    "plt.style.use('ggplot')"
   ]
  },
  {
   "cell_type": "code",
   "execution_count": null,
   "metadata": {},
   "outputs": [],
   "source": [
    "df = pd.read_csv('train_new_features.csv', index_col='id')\n",
    "df.head()"
   ]
  },
  {
   "cell_type": "code",
   "execution_count": null,
   "metadata": {
    "collapsed": true
   },
   "outputs": [],
   "source": [
    "def rmsle(actual, predicted):\n",
    "    return np.square(np.log(predicted + 1) - np.log(actual + 1)).mean() ** 0.5\n",
    "my_score = make_scorer(rmsle, greater_is_better=False)"
   ]
  },
  {
   "cell_type": "code",
   "execution_count": null,
   "metadata": {
    "collapsed": true
   },
   "outputs": [],
   "source": [
    "def select_model(data, model):\n",
    "    \n",
    "    exclude_feature = ['sg', 'Eg', 'Ef', 'alpha_r', 'beta_r', 'gamma_r', 'x_In', 'x_Al',]\n",
    "    features = list(data.drop(exclude_feature, axis=1))\n",
    "    X = data.drop(exclude_feature, axis=1).values\n",
    "\n",
    "    y_g = data['Eg'].values\n",
    "    y_f = data['Ef'].values\n",
    "    \n",
    "#    print(X.shape, y_g.shape, y_f.shape)\n",
    "    params = {}\n",
    "    models = {}\n",
    "    \n",
    "    search_params_RFR = {\n",
    "     \"n_estimators\": Integer(50, 2000),\n",
    "     'max_depth': Integer(2, 40),\n",
    "     'min_samples_split': Integer(2, 15),\n",
    "#     'max_features': Integer(2, 20)\n",
    "     }\n",
    "    \n",
    "    search_params_GBR = {\n",
    "     'learning_rate': Real(0.01, 0.5),\n",
    "     'n_estimators': Integer(1000, 4000),\n",
    "     'max_depth': Integer(2, 40),\n",
    "     'min_samples_split': Integer(2, 15),\n",
    "     'min_samples_leaf': Integer(2, 50),\n",
    "     'min_weight_fraction_leaf': Real(0., .5),\n",
    "     'max_features': Integer(2, 15)\n",
    "     }\n",
    "    \n",
    "    params['RFR'] = search_params_RFR\n",
    "    params['GBR'] = search_params_GBR\n",
    "    \n",
    "    models['RFR'] = RFR(max_features=\"sqrt\")\n",
    "    models['GBR'] = GBR()\n",
    "\n",
    "    opt_g = BayesSearchCV(models[model], \n",
    "                      params[model], \n",
    "                      scoring=my_score,\n",
    "                      cv=5,\n",
    "                      n_iter=50, \n",
    "                      n_jobs=-1, \n",
    "                      verbose=10)\n",
    "    opt_g.fit(X, y_g)\n",
    "    \n",
    "    opt_f = BayesSearchCV(models[model], \n",
    "                      params[model], \n",
    "                      scoring=my_score,\n",
    "                      cv=5,\n",
    "                      n_iter=50, \n",
    "                      n_jobs=-1, \n",
    "                      verbose=10)\n",
    "    opt_f.fit(X, y_f)\n",
    "    \n",
    "    output = {}\n",
    "    res_g = pd.DataFrame(opt_g.cv_results_).sort_values(['rank_test_score', 'param_max_depth'])\n",
    "    res_f = pd.DataFrame(opt_f.cv_results_).sort_values(['rank_test_score', 'param_max_depth'])\n",
    "    \n",
    "    output[\"results_g\"] = res_g\n",
    "    output[\"results_f\"] = res_f\n",
    "    \n",
    "    output[\"best_params_g\"] = opt_g.best_params_\n",
    "    output[\"best_params_f\"] = opt_f.best_params_\n",
    "    \n",
    "    output[\"best_g\"] = opt_g.best_estimator_\n",
    "    output[\"best_f\"] = opt_f.best_estimator_\n",
    "    \n",
    "    output[\"rmsle_g\"] = abs(res_g['mean_test_score'].max())\n",
    "    output[\"std_g\"] = res_g.iloc[0]['std_test_score']\n",
    "    \n",
    "    output[\"rmsle_f\"] = abs(res_f['mean_test_score'].max())\n",
    "    output[\"std_f\"] = res_f.iloc[0]['std_test_score']\n",
    "    \n",
    "    output[\"avg_rmsle\"] = (output[\"rmsle_g\"] + output[\"rmsle_f\"])/2\n",
    "    \n",
    "    return output"
   ]
  },
  {
   "cell_type": "code",
   "execution_count": null,
   "metadata": {},
   "outputs": [],
   "source": [
    "sg = np.sort(df['sg'].unique())\n",
    "train = {}\n",
    "out_rfr = {}\n",
    "\n",
    "for s in sg:\n",
    "    train[s] = df.groupby('sg').get_group(s)\n",
    "    out_rfr[s] = select_model(train[s], 'RFR')\n",
    "#    avg_rmsle_rfr = np.append(avg_rmsle, out_rfr[s][\"avg_rmsle\"]) "
   ]
  },
  {
   "cell_type": "code",
   "execution_count": null,
   "metadata": {},
   "outputs": [],
   "source": [
    "avg_rmsle_rfr = []\n",
    "for s in sg:\n",
    "    avg_rmsle_rfr = np.append(avg_rmsle_rfr, out_rfr[s][\"avg_rmsle\"]) \n",
    "\n",
    "print(avg_rmsle_rfr, avg_rmsle_rfr.mean())"
   ]
  },
  {
   "cell_type": "code",
   "execution_count": null,
   "metadata": {},
   "outputs": [],
   "source": [
    "for s in sg:\n",
    "    res_f = out_rfr[s][\"results_f\"].sort_values(['rank_test_score', 'param_n_estimators'], ascending=[True,False])\n",
    "    rank_f = res_f.groupby('rank_test_score').get_group(1)\n",
    "    for param in rank_f[\"params\"]:\n",
    "        print(param)\n",
    "        \n",
    "    res_g = out_rfr[s][\"results_g\"].sort_values(['rank_test_score', 'param_n_estimators'], ascending=[True,False])\n",
    "    params_f = res_f[\"params\"].iloc[0]\n",
    "    params_g = res_g[\"params\"].iloc[0]\n",
    "    best_f = RFR(**params_f)\n",
    "    best_g = RFR(**params_g)"
   ]
  },
  {
   "cell_type": "code",
   "execution_count": null,
   "metadata": {},
   "outputs": [],
   "source": [
    "data_test = pd.read_csv('test_new_features.csv', index_col='id')\n",
    "\n",
    "def predict(data):    \n",
    "    best_model_g = {}\n",
    "    best_model_f = {}    \n",
    "    train_ex_feature = ['sg', 'Eg', 'Ef', 'alpha_r', 'beta_r', 'gamma_r', 'x_In', 'x_Al',]\n",
    "    test_ex_feature = ['sg', 'alpha_r', 'beta_r', 'gamma_r', 'x_In', 'x_Al']\n",
    "    df_test = {}\n",
    "    \n",
    "    for s in sg:\n",
    "        X = train[s].drop(train_ex_feature, axis=1).values\n",
    "        y_g = train[s]['Eg'].values\n",
    "        y_f = train[s]['Ef'].values\n",
    "        \n",
    "        df_test[s] = data.groupby('sg').get_group(s)\n",
    "        X_test = df_test[s].drop(test_ex_feature, axis=1).values\n",
    "        \n",
    "        params_g = out_rfr[s][\"results_g\"].groupby('rank_test_score').get_group(1)\n",
    "        params_f = out_rfr[s][\"results_f\"].groupby('rank_test_score').get_group(1)\n",
    "        \n",
    "        print(s)        \n",
    "        y_pred_g = np.array([]).reshape(0,X_test.shape[0])\n",
    "        for i, param in enumerate(params_g[\"params\"]):\n",
    "            print(\"g\", i)\n",
    "            best_g = RFR(**param).fit(X, y_g)\n",
    "            y_pred_g = np.vstack([y_pred_g, best_g.predict(X_test)])\n",
    "        \n",
    "        display(pd.DataFrame(y_pred_g))\n",
    "        df_test[s]['std_g'] = np.std(y_pred_g, axis=0)\n",
    "        df_test[s]['bandgap_energy_ev'] = np.mean(y_pred_g, axis=0)\n",
    "        \n",
    "        \n",
    "        y_pred_f = np.array([]).reshape(0,X_test.shape[0])\n",
    "        for j, param in enumerate(params_f[\"params\"]):\n",
    "            print(\"f\", j)\n",
    "            best_f = RFR(**param).fit(X, y_f)\n",
    "            y_pred_f = np.vstack([y_pred_f, best_f.predict(X_test)])\n",
    "            \n",
    "        display(pd.DataFrame(y_pred_f))\n",
    "        df_test[s]['std_f'] = np.std(y_pred_f, axis=0)\n",
    "        df_test[s]['formation_energy_ev_natom'] = np.mean(y_pred_f, axis=0)\n",
    "        \n",
    "    df_pred = pd.concat([df_test[s] for s in sg]).sort_index()\n",
    "    return df_pred, df_pred[['formation_energy_ev_natom', 'bandgap_energy_ev']]\n",
    "        \n",
    "\n",
    "pred = predict(data_test)\n",
    "display(pred[1])\n"
   ]
  },
  {
   "cell_type": "code",
   "execution_count": null,
   "metadata": {
    "collapsed": true
   },
   "outputs": [],
   "source": []
  },
  {
   "cell_type": "code",
   "execution_count": null,
   "metadata": {},
   "outputs": [],
   "source": [
    "train = {}\n",
    "out_gbr = {}\n",
    "avg_rmsle_gbr = []\n",
    "for s in sg:\n",
    "    train[s] = df.groupby('sg').get_group(s)\n",
    "    out_gbr[s] = select_model(train[s], 'GBR')\n",
    "    avg_rmsle_gbr = np.append(avg_rmsle_gbr, out_gbr[s][\"avg_rmsle\"]) "
   ]
  },
  {
   "cell_type": "code",
   "execution_count": null,
   "metadata": {},
   "outputs": [],
   "source": [
    "print(avg_rmsle_gbr, avg_rmsle_gbr.mean())"
   ]
  },
  {
   "cell_type": "code",
   "execution_count": null,
   "metadata": {},
   "outputs": [],
   "source": [
    "for s in sg:\n",
    "    display(out_gbr[s][\"results_g\"].head())\n",
    "    print(s, out_gbr[s][\"best_g\"])"
   ]
  },
  {
   "cell_type": "code",
   "execution_count": null,
   "metadata": {},
   "outputs": [],
   "source": []
  },
  {
   "cell_type": "code",
   "execution_count": null,
   "metadata": {},
   "outputs": [],
   "source": [
    "data_test = pd.read_csv('test_new_features.csv', index_col='id')\n",
    "\n",
    "def predict(data):    \n",
    "    best_model_g = {}\n",
    "    best_model_f = {}    \n",
    "    train_ex_feature = ['sg', 'Eg', 'Ef', 'alpha_r', 'beta_r', 'gamma_r', 'x_In', 'x_Al',]\n",
    "    test_ex_feature = ['sg', 'alpha_r', 'beta_r', 'gamma_r', 'x_In', 'x_Al']\n",
    "    df_test = {}\n",
    "    \n",
    "    for s in sg:\n",
    "        X = train[s].drop(train_ex_feature, axis=1).values\n",
    "        y_g = train[s]['Eg'].values\n",
    "        y_f = train[s]['Ef'].values\n",
    "        \n",
    "        df_test[s] = data.groupby('sg').get_group(s)\n",
    "        X_test = df_test[s].drop(test_ex_feature, axis=1).values\n",
    "        \n",
    "        params_g = out_gbr[s][\"results_g\"].groupby('rank_test_score').get_group(1)\n",
    "        params_f = out_gbr[s][\"results_f\"].groupby('rank_test_score').get_group(1)\n",
    "        \n",
    "        print(s)        \n",
    "        y_pred_g = np.array([]).reshape(0,X_test.shape[0])\n",
    "        for i, param in enumerate(params_g[\"params\"]):\n",
    "            print(\"g\", i)\n",
    "            best_g = GBR(**param).fit(X, y_g)\n",
    "            y_pred_g = np.vstack([y_pred_g, best_g.predict(X_test)])\n",
    "        \n",
    "        display(pd.DataFrame(y_pred_g))\n",
    "        df_test[s]['std_g'] = np.std(y_pred_g, axis=0)\n",
    "        df_test[s]['bandgap_energy_ev'] = np.mean(y_pred_g, axis=0)\n",
    "             \n",
    "        y_pred_f = np.array([]).reshape(0,X_test.shape[0])\n",
    "        for j, param in enumerate(params_f[\"params\"]):\n",
    "            print(\"f\", j)\n",
    "            best_f = GBR(**param).fit(X, y_f)\n",
    "            y_pred_f = np.vstack([y_pred_f, best_f.predict(X_test)])\n",
    "            \n",
    "        display(pd.DataFrame(y_pred_f))\n",
    "        df_test[s]['std_f'] = np.std(y_pred_f, axis=0)\n",
    "        df_test[s]['formation_energy_ev_natom'] = np.mean(y_pred_f, axis=0)\n",
    "        \n",
    "    df_pred = pd.concat([df_test[s] for s in sg]).sort_index()\n",
    "    return df_pred, df_pred[['formation_energy_ev_natom', 'bandgap_energy_ev']]\n",
    "        \n",
    "\n",
    "pred = predict(data_test)\n",
    "display(pred[1])\n"
   ]
  },
  {
   "cell_type": "code",
   "execution_count": null,
   "metadata": {},
   "outputs": [],
   "source": [
    "val = np.mean(val_g.reshape(6,10), axis=1)\n",
    "print(val)\n",
    "avg = []\n",
    "w = []\n",
    "for i, s in enumerate(sg):\n",
    "    print(i, s)\n",
    "    print(train[s].shape)\n",
    "    print(val[i])\n",
    "    w = np.append(w, train[s].shape[0])\n",
    "print(w)\n",
    "print(np.average(val, weights=w))"
   ]
  },
  {
   "cell_type": "code",
   "execution_count": null,
   "metadata": {},
   "outputs": [],
   "source": [
    "np.mean(val_g.reshape(6,10), axis=1).mean()"
   ]
  }
 ],
 "metadata": {
  "anaconda-cloud": {},
  "kernelspec": {
   "display_name": "Python [conda env:py3]",
   "language": "python",
   "name": "conda-env-py3-py"
  },
  "language_info": {
   "codemirror_mode": {
    "name": "ipython",
    "version": 3
   },
   "file_extension": ".py",
   "mimetype": "text/x-python",
   "name": "python",
   "nbconvert_exporter": "python",
   "pygments_lexer": "ipython3",
   "version": "3.5.3"
  }
 },
 "nbformat": 4,
 "nbformat_minor": 1
}
